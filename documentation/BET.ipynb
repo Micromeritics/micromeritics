{
 "cells": [
  {
   "cell_type": "markdown",
   "metadata": {
    "collapsed": true
   },
   "source": [
    "# BET Surface Area"
   ]
  },
  {
   "cell_type": "markdown",
   "metadata": {},
   "source": [
    "The BET equation for determining the specific surface area from multilayer adsorption of nitrogen was first reported in 1938.\n",
    "\n",
    "Brunauer, Stephen, Paul Hugh Emmett, and Edward Teller. [\"Adsorption of gases in multimolecular layers.\"](http://pubs.acs.org/doi/abs/10.1021/ja01269a023) Journal of the American Chemical Society 60, no. 2 (1938): 309-319."
   ]
  },
  {
   "cell_type": "markdown",
   "metadata": {},
   "source": [
    "##BET Surface Area Calculation Description\n",
    "\n",
    "The BET data reduction applies to isotherm data.  The isotherm consists of the quantity adsorbed $Q_i$ (in cm^3/g STP) and the relative pressure $P^{rel}_i$ for each point $i$ selected for the calculation.  \n",
    "\n",
    "THe BET model also requires the cross sectional area of the adsorptive, $\\sigma_{ads}$ (in nm^2). "
   ]
  },
  {
   "cell_type": "markdown",
   "metadata": {},
   "source": [
    "###BET transformation calculation\n",
    "\n",
    "The first thing is to calculate the BET transform $T_i$.  This is done as follows:  \n",
    "\n",
    "$\\displaystyle {T_i=\\frac{1}{Q_i(1/P^{rel}_i-1)}}$\n",
    "\n",
    "Then a least a least-squares fit is performed on the $T_i$ vs. $P^{rel}_i$ data.  This fit calculates the following: \n",
    "\n",
    "1. $m$: The slope of the best fit line. \n",
    "2. $Y_0$: The Y-intercept of the best fit line. \n",
    "3. $\\sigma_m$: The uncertainty of the slope from the fit calculation.  \n",
    "4. $\\sigma_{Y_0}$: The uncertainty of the Y-intercept the the fit calculation. \n",
    "5. $r$ The correlation coefficient between the $T_i$ and $P^{rel}_i$. \n"
   ]
  },
  {
   "cell_type": "markdown",
   "metadata": {},
   "source": [
    "### Calculating the BET results\n",
    "\n",
    "The slope of the line and intercept may be used to calculate the monolayer capacity $Q_m$ and the BET $c$ constant.\n",
    "\n",
    "The fist thing to calculate is the BET $C$ value: \n",
    "$\\displaystyle {C = 1 + \\frac{m}{Y_0}}$\n",
    "\n",
    "From this we can caclulate the monolayer capacity $Q_m$: \n",
    "$\\displaystyle Q_m = \\frac{1}{C*Y_0}$\n",
    "\n",
    "Finally, we can calculate the BET surface area $A_{BET}$: \n",
    "\n",
    "$\\displaystyle A_{BET} =\\frac{N_A \\sigma_{ads}}{V_{STP} U_{mn^2,m^2} (m + Y_0)}$\n",
    "\n",
    "Where: \n",
    "* $V_{STP}$: volume of a molr of gas at STP $22414.0$ cm^3\n",
    "* $N_A$: Number of molecules in a mole of gas: $6.02214129\\times 10^{23}$. \n",
    "* $U_{mn^2,m^2}$: Unit conversion form nm^2 to m^2: $10^{18}$. \n",
    "\n",
    "Finally, we can find the uncertainty in the surface area $\\sigma_{SA_{BET}}$ from the uncertainty in the line fit results:  \n",
    "\n",
    "$\\displaystyle \\sigma_{A_{BET}} = A_{BET} \\frac{\\sqrt{\\sigma_m^2+\\sigma_{Y_0}^2}}{m + Y_0}$\n"
   ]
  },
  {
   "cell_type": "markdown",
   "metadata": {},
   "source": [
    "## BET: Example Calculation\n",
    "\n",
    "As an example of the BET calculation, we use the refernce calculation from the [report-models-python](https://github.com/Micromeritics/report-models-python) on github from Micromeritics. This tool not only provides example the reference caclulations, but aslo provides exampel data to work with, and utilities to make working with the data batter.   \n",
    "\n",
    "For this example, we start with a Carbon Black Reference material $N_2$ istherm at 77K, and restrict it to the ususal 0.05 to 0.3 relative pressure range.  "
   ]
  },
  {
   "cell_type": "code",
   "execution_count": 1,
   "metadata": {
    "collapsed": false
   },
   "outputs": [
    {
     "data": {
      "image/png": "[encoded data removed]",
      "text/plain": [
       "<matplotlib.figure.Figure at 0x7f5b2c235240>"
      ]
     },
     "metadata": {},
     "output_type": "display_data"
    }
   ],
   "source": [
    "%matplotlib inline\n",
    "from micromeritics import bet, util, isotherm_examples as ex, plots\n",
    "\n",
    "s = ex.carbon_black()   # example isotherm of Carbon Black with N2.  \n",
    "min = 0.05              # 0.05 to 0.30 range for BET \n",
    "max = 0.3\n",
    "Q,P = util.restrict_isotherm(s.Qads, s.Prel, min, max)\n",
    "plots.plotIsotherm(s.Qads, s.Prel, s.descr[s.descr.find(':')+1:], min, max )"
   ]
  },
  {
   "cell_type": "markdown",
   "metadata": {},
   "source": [
    "We then use the BET reference calculation on that restricted range (along with the molecular cross sectional area of 0.162 nm^2 to do teh calculation above.  Below we show the tranform plot along with its best fit line. "
   ]
  },
  {
   "cell_type": "code",
   "execution_count": 2,
   "metadata": {
    "collapsed": false
   },
   "outputs": [
    {
     "data": {
      "image/png": "[encoded data removed]",
      "text/plain": [
       "<matplotlib.figure.Figure at 0x7f5b2c21dba8>"
      ]
     },
     "metadata": {},
     "output_type": "display_data"
    }
   ],
   "source": [
    "B = bet.bet(Q, P, 0.162)\n",
    "plots.plotBET(P, B.transform, B.line_fit.slope, B.line_fit.y_intercept, max )"
   ]
  },
  {
   "cell_type": "markdown",
   "metadata": {},
   "source": [
    "Finally, we show the BET results.  "
   ]
  },
  {
   "cell_type": "code",
   "execution_count": 3,
   "metadata": {
    "collapsed": false
   },
   "outputs": [
    {
     "name": "stdout",
     "output_type": "stream",
     "text": [
      "BET surface area: 20.7049 ± 0.0289 m²/g\n",
      "C:                149.961535\n",
      "Qm:               4.7569 cm³/g STP\n"
     ]
    }
   ],
   "source": [
    "print(\"BET surface area: %.4f ± %.4f m²/g\" % (B.sa, B.sa_err))\n",
    "print(\"C:                %.6f\" % B.C)\n",
    "print(\"Qm:               %.4f cm³/g STP\" % B.q_m)"
   ]
  }
 ],
 "metadata": {
  "kernelspec": {
   "display_name": "Python 3",
   "language": "python",
   "name": "python3"
  },
  "language_info": {
   "codemirror_mode": {
    "name": "ipython",
    "version": 3
   },
   "file_extension": ".py",
   "mimetype": "text/x-python",
   "name": "python",
   "nbconvert_exporter": "python",
   "pygments_lexer": "ipython3",
   "version": "3.4.3+"
  }
 },
 "nbformat": 4,
 "nbformat_minor": 0
}
